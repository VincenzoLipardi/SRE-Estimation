{
 "cells": [
  {
   "cell_type": "markdown",
   "metadata": {},
   "source": [
    "Data Generation"
   ]
  },
  {
   "cell_type": "code",
   "execution_count": 1,
   "metadata": {},
   "outputs": [],
   "source": [
    "import random_circuits as rc"
   ]
  },
  {
   "cell_type": "code",
   "execution_count": 2,
   "metadata": {},
   "outputs": [],
   "source": [
    "directory = \"dataset_random\"\n",
    "num_circuits = 10000     \n",
    "basis_gates = \"rotations+cx\""
   ]
  },
  {
   "cell_type": "code",
   "execution_count": null,
   "metadata": {},
   "outputs": [
    {
     "name": "stdout",
     "output_type": "stream",
     "text": [
      "File dataset_random/random_circuits_basis_rotations+cx_qubits_2_gates_0-19.pkl already exists\n",
      "File dataset_random/random_circuits_basis_rotations+cx_qubits_2_gates_20-39.pkl already exists\n",
      "File dataset_random/random_circuits_basis_rotations+cx_qubits_3_gates_0-19.pkl already exists\n",
      "File dataset_random/random_circuits_basis_rotations+cx_qubits_3_gates_20-39.pkl already exists\n",
      "File dataset_random/random_circuits_basis_rotations+cx_qubits_4_gates_0-19.pkl already exists\n",
      "File dataset_random/random_circuits_basis_rotations+cx_qubits_4_gates_20-39.pkl already exists\n",
      "File dataset_random/random_circuits_basis_rotations+cx_qubits_5_gates_0-19.pkl already exists\n",
      "File dataset_random/random_circuits_basis_rotations+cx_qubits_5_gates_20-39.pkl already exists\n"
     ]
    }
   ],
   "source": [
    "for i in range(2,6):\n",
    "    for j in range(5):\n",
    "        saved_filepath = rc.generate_and_save_circuits(directory, num_qubits=i, gate_range=(20*j, 20*(j+1)), num_circuits=num_circuits, basis_gates=basis_gates)"
   ]
  }
 ],
 "metadata": {
  "kernelspec": {
   "display_name": "shadows",
   "language": "python",
   "name": "python3"
  },
  "language_info": {
   "codemirror_mode": {
    "name": "ipython",
    "version": 3
   },
   "file_extension": ".py",
   "mimetype": "text/x-python",
   "name": "python",
   "nbconvert_exporter": "python",
   "pygments_lexer": "ipython3",
   "version": "3.11.9"
  }
 },
 "nbformat": 4,
 "nbformat_minor": 2
}
